{
 "cells": [
  {
   "cell_type": "markdown",
   "metadata": {},
   "source": [
    "# 02 - Explore Data"
   ]
  },
  {
   "cell_type": "markdown",
   "metadata": {},
   "source": [
    "Libraries have pre-defined code for other functions that are not included in basic Python. Once a library has been imported, any of its functions can be used throughout the entire notebook."
   ]
  },
  {
   "cell_type": "code",
   "execution_count": 2,
   "metadata": {
    "collapsed": true
   },
   "outputs": [],
   "source": [
    "#import libraries\n",
    "import pandas as pd\n",
    "import numpy as np"
   ]
  },
  {
   "cell_type": "markdown",
   "metadata": {},
   "source": [
    "## Load data"
   ]
  },
  {
   "cell_type": "markdown",
   "metadata": {},
   "source": [
    "### Excel files"
   ]
  },
  {
   "cell_type": "code",
   "execution_count": 3,
   "metadata": {},
   "outputs": [
    {
     "data": {
      "text/html": [
       "<div>\n",
       "<style>\n",
       "    .dataframe thead tr:only-child th {\n",
       "        text-align: right;\n",
       "    }\n",
       "\n",
       "    .dataframe thead th {\n",
       "        text-align: left;\n",
       "    }\n",
       "\n",
       "    .dataframe tbody tr th {\n",
       "        vertical-align: top;\n",
       "    }\n",
       "</style>\n",
       "<table border=\"1\" class=\"dataframe\">\n",
       "  <thead>\n",
       "    <tr style=\"text-align: right;\">\n",
       "      <th></th>\n",
       "      <th>Status</th>\n",
       "      <th>DeathCause</th>\n",
       "      <th>AgeCHDdiag</th>\n",
       "      <th>Sex</th>\n",
       "      <th>AgeAtStart</th>\n",
       "      <th>Height</th>\n",
       "      <th>Weight</th>\n",
       "      <th>Diastolic</th>\n",
       "      <th>Systolic</th>\n",
       "      <th>MRW</th>\n",
       "      <th>Smoking</th>\n",
       "      <th>AgeAtDeath</th>\n",
       "      <th>Cholesterol</th>\n",
       "      <th>Chol_Status</th>\n",
       "      <th>BP_Status</th>\n",
       "      <th>Weight_Status</th>\n",
       "      <th>Smoking_Status</th>\n",
       "    </tr>\n",
       "  </thead>\n",
       "  <tbody>\n",
       "    <tr>\n",
       "      <th>0</th>\n",
       "      <td>Dead</td>\n",
       "      <td>Other</td>\n",
       "      <td>NaN</td>\n",
       "      <td>Female</td>\n",
       "      <td>29</td>\n",
       "      <td>62.50</td>\n",
       "      <td>140.0</td>\n",
       "      <td>78</td>\n",
       "      <td>124</td>\n",
       "      <td>121.0</td>\n",
       "      <td>0.0</td>\n",
       "      <td>55.0</td>\n",
       "      <td>NaN</td>\n",
       "      <td>NaN</td>\n",
       "      <td>Normal</td>\n",
       "      <td>Overweight</td>\n",
       "      <td>Non-smoker</td>\n",
       "    </tr>\n",
       "    <tr>\n",
       "      <th>1</th>\n",
       "      <td>Dead</td>\n",
       "      <td>Cancer</td>\n",
       "      <td>NaN</td>\n",
       "      <td>Female</td>\n",
       "      <td>41</td>\n",
       "      <td>59.75</td>\n",
       "      <td>194.0</td>\n",
       "      <td>92</td>\n",
       "      <td>144</td>\n",
       "      <td>183.0</td>\n",
       "      <td>0.0</td>\n",
       "      <td>57.0</td>\n",
       "      <td>181.0</td>\n",
       "      <td>Desirable</td>\n",
       "      <td>High</td>\n",
       "      <td>Overweight</td>\n",
       "      <td>Non-smoker</td>\n",
       "    </tr>\n",
       "    <tr>\n",
       "      <th>2</th>\n",
       "      <td>Alive</td>\n",
       "      <td>NaN</td>\n",
       "      <td>NaN</td>\n",
       "      <td>Female</td>\n",
       "      <td>57</td>\n",
       "      <td>62.25</td>\n",
       "      <td>132.0</td>\n",
       "      <td>90</td>\n",
       "      <td>170</td>\n",
       "      <td>114.0</td>\n",
       "      <td>10.0</td>\n",
       "      <td>NaN</td>\n",
       "      <td>250.0</td>\n",
       "      <td>High</td>\n",
       "      <td>High</td>\n",
       "      <td>Overweight</td>\n",
       "      <td>Moderate (6-15)</td>\n",
       "    </tr>\n",
       "    <tr>\n",
       "      <th>3</th>\n",
       "      <td>Alive</td>\n",
       "      <td>NaN</td>\n",
       "      <td>NaN</td>\n",
       "      <td>Female</td>\n",
       "      <td>39</td>\n",
       "      <td>65.75</td>\n",
       "      <td>158.0</td>\n",
       "      <td>80</td>\n",
       "      <td>128</td>\n",
       "      <td>123.0</td>\n",
       "      <td>0.0</td>\n",
       "      <td>NaN</td>\n",
       "      <td>242.0</td>\n",
       "      <td>High</td>\n",
       "      <td>Normal</td>\n",
       "      <td>Overweight</td>\n",
       "      <td>Non-smoker</td>\n",
       "    </tr>\n",
       "    <tr>\n",
       "      <th>4</th>\n",
       "      <td>Alive</td>\n",
       "      <td>NaN</td>\n",
       "      <td>NaN</td>\n",
       "      <td>Male</td>\n",
       "      <td>42</td>\n",
       "      <td>66.00</td>\n",
       "      <td>156.0</td>\n",
       "      <td>76</td>\n",
       "      <td>110</td>\n",
       "      <td>116.0</td>\n",
       "      <td>20.0</td>\n",
       "      <td>NaN</td>\n",
       "      <td>281.0</td>\n",
       "      <td>High</td>\n",
       "      <td>Optimal</td>\n",
       "      <td>Overweight</td>\n",
       "      <td>Heavy (16-25)</td>\n",
       "    </tr>\n",
       "  </tbody>\n",
       "</table>\n",
       "</div>"
      ],
      "text/plain": [
       "  Status DeathCause  AgeCHDdiag     Sex  AgeAtStart  Height  Weight  \\\n",
       "0   Dead      Other         NaN  Female          29   62.50   140.0   \n",
       "1   Dead     Cancer         NaN  Female          41   59.75   194.0   \n",
       "2  Alive        NaN         NaN  Female          57   62.25   132.0   \n",
       "3  Alive        NaN         NaN  Female          39   65.75   158.0   \n",
       "4  Alive        NaN         NaN    Male          42   66.00   156.0   \n",
       "\n",
       "   Diastolic  Systolic    MRW  Smoking  AgeAtDeath  Cholesterol Chol_Status  \\\n",
       "0         78       124  121.0      0.0        55.0          NaN         NaN   \n",
       "1         92       144  183.0      0.0        57.0        181.0   Desirable   \n",
       "2         90       170  114.0     10.0         NaN        250.0        High   \n",
       "3         80       128  123.0      0.0         NaN        242.0        High   \n",
       "4         76       110  116.0     20.0         NaN        281.0        High   \n",
       "\n",
       "  BP_Status Weight_Status   Smoking_Status  \n",
       "0    Normal    Overweight       Non-smoker  \n",
       "1      High    Overweight       Non-smoker  \n",
       "2      High    Overweight  Moderate (6-15)  \n",
       "3    Normal    Overweight       Non-smoker  \n",
       "4   Optimal    Overweight    Heavy (16-25)  "
      ]
     },
     "execution_count": 3,
     "metadata": {},
     "output_type": "execute_result"
    }
   ],
   "source": [
    "#import Excel file\n",
    "\n",
    "location = \"c:/users/GBTC441005ur/datasets/Heart_Data.xlsx\"\n",
    "df = pd.read_excel(location) #overwrites the info from the df variable in the examples above\n",
    "df.head()"
   ]
  },
  {
   "cell_type": "markdown",
   "metadata": {},
   "source": [
    "### Exploratory Analysis"
   ]
  },
  {
   "cell_type": "code",
   "execution_count": 4,
   "metadata": {},
   "outputs": [
    {
     "data": {
      "text/plain": [
       "Index(['Status', 'DeathCause', 'AgeCHDdiag', 'Sex', 'AgeAtStart', 'Height',\n",
       "       'Weight', 'Diastolic', 'Systolic', 'MRW', 'Smoking', 'AgeAtDeath',\n",
       "       'Cholesterol', 'Chol_Status', 'BP_Status', 'Weight_Status',\n",
       "       'Smoking_Status'],\n",
       "      dtype='object')"
      ]
     },
     "execution_count": 4,
     "metadata": {},
     "output_type": "execute_result"
    }
   ],
   "source": [
    "#show the column names in the dataset\n",
    "df.columns\n",
    "#or print(df.columns)"
   ]
  },
  {
   "cell_type": "code",
   "execution_count": 5,
   "metadata": {},
   "outputs": [
    {
     "data": {
      "text/plain": [
       "Status             object\n",
       "DeathCause         object\n",
       "AgeCHDdiag        float64\n",
       "Sex                object\n",
       "AgeAtStart          int64\n",
       "Height            float64\n",
       "Weight            float64\n",
       "Diastolic           int64\n",
       "Systolic            int64\n",
       "MRW               float64\n",
       "Smoking           float64\n",
       "AgeAtDeath        float64\n",
       "Cholesterol       float64\n",
       "Chol_Status        object\n",
       "BP_Status          object\n",
       "Weight_Status      object\n",
       "Smoking_Status     object\n",
       "dtype: object"
      ]
     },
     "execution_count": 5,
     "metadata": {},
     "output_type": "execute_result"
    }
   ],
   "source": [
    "#show the data type of each column\n",
    "df.dtypes"
   ]
  },
  {
   "cell_type": "code",
   "execution_count": 6,
   "metadata": {},
   "outputs": [
    {
     "data": {
      "text/plain": [
       "Status            5209\n",
       "DeathCause        1991\n",
       "AgeCHDdiag        1449\n",
       "Sex               5209\n",
       "AgeAtStart        5209\n",
       "Height            5203\n",
       "Weight            5203\n",
       "Diastolic         5209\n",
       "Systolic          5209\n",
       "MRW               5203\n",
       "Smoking           5173\n",
       "AgeAtDeath        1991\n",
       "Cholesterol       5057\n",
       "Chol_Status       5057\n",
       "BP_Status         5209\n",
       "Weight_Status     5203\n",
       "Smoking_Status    5173\n",
       "dtype: int64"
      ]
     },
     "execution_count": 6,
     "metadata": {},
     "output_type": "execute_result"
    }
   ],
   "source": [
    "#number of non-NA values\n",
    "#len(df) would count rows including NA values\n",
    "df.count()"
   ]
  },
  {
   "cell_type": "code",
   "execution_count": 7,
   "metadata": {},
   "outputs": [
    {
     "data": {
      "text/plain": [
       "51.5"
      ]
     },
     "execution_count": 7,
     "metadata": {},
     "output_type": "execute_result"
    }
   ],
   "source": [
    "df['Height'].max()\n",
    "df['Height'].min()"
   ]
  },
  {
   "cell_type": "code",
   "execution_count": 7,
   "metadata": {
    "scrolled": true
   },
   "outputs": [
    {
     "data": {
      "text/plain": [
       "50"
      ]
     },
     "execution_count": 7,
     "metadata": {},
     "output_type": "execute_result"
    }
   ],
   "source": [
    "df['Diastolic'].max()\n",
    "df['Diastolic'].min()"
   ]
  },
  {
   "cell_type": "code",
   "execution_count": 8,
   "metadata": {},
   "outputs": [
    {
     "data": {
      "text/plain": [
       "67.0"
      ]
     },
     "execution_count": 8,
     "metadata": {},
     "output_type": "execute_result"
    }
   ],
   "source": [
    "df['Weight'].max()\n",
    "df['Weight'].min()"
   ]
  },
  {
   "cell_type": "code",
   "execution_count": 8,
   "metadata": {},
   "outputs": [
    {
     "data": {
      "text/html": [
       "<div>\n",
       "<style>\n",
       "    .dataframe thead tr:only-child th {\n",
       "        text-align: right;\n",
       "    }\n",
       "\n",
       "    .dataframe thead th {\n",
       "        text-align: left;\n",
       "    }\n",
       "\n",
       "    .dataframe tbody tr th {\n",
       "        vertical-align: top;\n",
       "    }\n",
       "</style>\n",
       "<table border=\"1\" class=\"dataframe\">\n",
       "  <thead>\n",
       "    <tr style=\"text-align: right;\">\n",
       "      <th></th>\n",
       "      <th>AgeCHDdiag</th>\n",
       "      <th>AgeAtStart</th>\n",
       "      <th>Height</th>\n",
       "      <th>Weight</th>\n",
       "      <th>Diastolic</th>\n",
       "      <th>Systolic</th>\n",
       "      <th>MRW</th>\n",
       "      <th>Smoking</th>\n",
       "      <th>AgeAtDeath</th>\n",
       "      <th>Cholesterol</th>\n",
       "    </tr>\n",
       "  </thead>\n",
       "  <tbody>\n",
       "    <tr>\n",
       "      <th>count</th>\n",
       "      <td>1449.000000</td>\n",
       "      <td>5209.000000</td>\n",
       "      <td>5203.000000</td>\n",
       "      <td>5203.000000</td>\n",
       "      <td>5209.000000</td>\n",
       "      <td>5209.000000</td>\n",
       "      <td>5203.000000</td>\n",
       "      <td>5173.000000</td>\n",
       "      <td>1991.000000</td>\n",
       "      <td>5057.000000</td>\n",
       "    </tr>\n",
       "    <tr>\n",
       "      <th>mean</th>\n",
       "      <td>63.302968</td>\n",
       "      <td>44.068727</td>\n",
       "      <td>64.813185</td>\n",
       "      <td>153.086681</td>\n",
       "      <td>85.358610</td>\n",
       "      <td>136.909580</td>\n",
       "      <td>119.957525</td>\n",
       "      <td>9.366518</td>\n",
       "      <td>70.536414</td>\n",
       "      <td>227.417441</td>\n",
       "    </tr>\n",
       "    <tr>\n",
       "      <th>std</th>\n",
       "      <td>10.018215</td>\n",
       "      <td>8.574954</td>\n",
       "      <td>3.582707</td>\n",
       "      <td>28.915426</td>\n",
       "      <td>12.973091</td>\n",
       "      <td>23.739596</td>\n",
       "      <td>19.983401</td>\n",
       "      <td>12.031451</td>\n",
       "      <td>10.559406</td>\n",
       "      <td>44.935524</td>\n",
       "    </tr>\n",
       "    <tr>\n",
       "      <th>min</th>\n",
       "      <td>32.000000</td>\n",
       "      <td>28.000000</td>\n",
       "      <td>51.500000</td>\n",
       "      <td>67.000000</td>\n",
       "      <td>50.000000</td>\n",
       "      <td>82.000000</td>\n",
       "      <td>67.000000</td>\n",
       "      <td>0.000000</td>\n",
       "      <td>36.000000</td>\n",
       "      <td>96.000000</td>\n",
       "    </tr>\n",
       "    <tr>\n",
       "      <th>25%</th>\n",
       "      <td>57.000000</td>\n",
       "      <td>37.000000</td>\n",
       "      <td>62.250000</td>\n",
       "      <td>132.000000</td>\n",
       "      <td>76.000000</td>\n",
       "      <td>120.000000</td>\n",
       "      <td>106.000000</td>\n",
       "      <td>0.000000</td>\n",
       "      <td>63.000000</td>\n",
       "      <td>196.000000</td>\n",
       "    </tr>\n",
       "    <tr>\n",
       "      <th>50%</th>\n",
       "      <td>63.000000</td>\n",
       "      <td>43.000000</td>\n",
       "      <td>64.500000</td>\n",
       "      <td>150.000000</td>\n",
       "      <td>84.000000</td>\n",
       "      <td>132.000000</td>\n",
       "      <td>118.000000</td>\n",
       "      <td>1.000000</td>\n",
       "      <td>71.000000</td>\n",
       "      <td>223.000000</td>\n",
       "    </tr>\n",
       "    <tr>\n",
       "      <th>75%</th>\n",
       "      <td>70.000000</td>\n",
       "      <td>51.000000</td>\n",
       "      <td>67.500000</td>\n",
       "      <td>172.000000</td>\n",
       "      <td>92.000000</td>\n",
       "      <td>148.000000</td>\n",
       "      <td>131.000000</td>\n",
       "      <td>20.000000</td>\n",
       "      <td>79.000000</td>\n",
       "      <td>255.000000</td>\n",
       "    </tr>\n",
       "    <tr>\n",
       "      <th>max</th>\n",
       "      <td>90.000000</td>\n",
       "      <td>62.000000</td>\n",
       "      <td>76.500000</td>\n",
       "      <td>300.000000</td>\n",
       "      <td>160.000000</td>\n",
       "      <td>300.000000</td>\n",
       "      <td>268.000000</td>\n",
       "      <td>60.000000</td>\n",
       "      <td>93.000000</td>\n",
       "      <td>568.000000</td>\n",
       "    </tr>\n",
       "  </tbody>\n",
       "</table>\n",
       "</div>"
      ],
      "text/plain": [
       "        AgeCHDdiag   AgeAtStart       Height       Weight    Diastolic  \\\n",
       "count  1449.000000  5209.000000  5203.000000  5203.000000  5209.000000   \n",
       "mean     63.302968    44.068727    64.813185   153.086681    85.358610   \n",
       "std      10.018215     8.574954     3.582707    28.915426    12.973091   \n",
       "min      32.000000    28.000000    51.500000    67.000000    50.000000   \n",
       "25%      57.000000    37.000000    62.250000   132.000000    76.000000   \n",
       "50%      63.000000    43.000000    64.500000   150.000000    84.000000   \n",
       "75%      70.000000    51.000000    67.500000   172.000000    92.000000   \n",
       "max      90.000000    62.000000    76.500000   300.000000   160.000000   \n",
       "\n",
       "          Systolic          MRW      Smoking   AgeAtDeath  Cholesterol  \n",
       "count  5209.000000  5203.000000  5173.000000  1991.000000  5057.000000  \n",
       "mean    136.909580   119.957525     9.366518    70.536414   227.417441  \n",
       "std      23.739596    19.983401    12.031451    10.559406    44.935524  \n",
       "min      82.000000    67.000000     0.000000    36.000000    96.000000  \n",
       "25%     120.000000   106.000000     0.000000    63.000000   196.000000  \n",
       "50%     132.000000   118.000000     1.000000    71.000000   223.000000  \n",
       "75%     148.000000   131.000000    20.000000    79.000000   255.000000  \n",
       "max     300.000000   268.000000    60.000000    93.000000   568.000000  "
      ]
     },
     "execution_count": 8,
     "metadata": {},
     "output_type": "execute_result"
    }
   ],
   "source": [
    "#descriptive statistics\n",
    "df.describe()"
   ]
  },
  {
   "cell_type": "code",
   "execution_count": 22,
   "metadata": {},
   "outputs": [
    {
     "data": {
      "text/plain": [
       "AgeAtStart\n",
       "28    60.500000\n",
       "29    66.420455\n",
       "30    66.100000\n",
       "31    65.967626\n",
       "32    65.682161\n",
       "33    65.196341\n",
       "34    65.316820\n",
       "35    65.265075\n",
       "36    64.980435\n",
       "37    65.268293\n",
       "38    65.079762\n",
       "39    64.706284\n",
       "40    65.170732\n",
       "41    64.339286\n",
       "42    64.727488\n",
       "43    64.948276\n",
       "44    65.206349\n",
       "45    64.978947\n",
       "46    64.897727\n",
       "47    64.595779\n",
       "48    64.606013\n",
       "49    63.914474\n",
       "50    64.789941\n",
       "51    64.238235\n",
       "52    64.813218\n",
       "53    64.185484\n",
       "54    64.971557\n",
       "55    64.237410\n",
       "56    63.921053\n",
       "57    64.137500\n",
       "58    63.647436\n",
       "59    64.079167\n",
       "60    64.443750\n",
       "61    62.550000\n",
       "62    63.035714\n",
       "Name: Height, dtype: float64"
      ]
     },
     "execution_count": 22,
     "metadata": {},
     "output_type": "execute_result"
    }
   ],
   "source": [
    "#add a stats or math function to it\n",
    "df['Height'].groupby(df['AgeAtStart']).mean()\n"
   ]
  },
  {
   "cell_type": "code",
   "execution_count": 9,
   "metadata": {},
   "outputs": [
    {
     "data": {
      "text/plain": [
       "<pandas.core.groupby.DataFrameGroupBy object at 0x0000012DD291D438>"
      ]
     },
     "execution_count": 9,
     "metadata": {},
     "output_type": "execute_result"
    }
   ],
   "source": [
    "#doesn't do anything on its own\n",
    "df.groupby('Sex')"
   ]
  },
  {
   "cell_type": "code",
   "execution_count": 11,
   "metadata": {},
   "outputs": [
    {
     "data": {
      "text/html": [
       "<div>\n",
       "<style>\n",
       "    .dataframe thead tr:only-child th {\n",
       "        text-align: right;\n",
       "    }\n",
       "\n",
       "    .dataframe thead th {\n",
       "        text-align: left;\n",
       "    }\n",
       "\n",
       "    .dataframe tbody tr th {\n",
       "        vertical-align: top;\n",
       "    }\n",
       "</style>\n",
       "<table border=\"1\" class=\"dataframe\">\n",
       "  <thead>\n",
       "    <tr style=\"text-align: right;\">\n",
       "      <th></th>\n",
       "      <th></th>\n",
       "      <th>AgeCHDdiag</th>\n",
       "      <th>AgeAtStart</th>\n",
       "      <th>Height</th>\n",
       "      <th>Weight</th>\n",
       "      <th>Diastolic</th>\n",
       "      <th>Systolic</th>\n",
       "      <th>MRW</th>\n",
       "      <th>Smoking</th>\n",
       "      <th>AgeAtDeath</th>\n",
       "      <th>Cholesterol</th>\n",
       "    </tr>\n",
       "    <tr>\n",
       "      <th>Status</th>\n",
       "      <th>DeathCause</th>\n",
       "      <th></th>\n",
       "      <th></th>\n",
       "      <th></th>\n",
       "      <th></th>\n",
       "      <th></th>\n",
       "      <th></th>\n",
       "      <th></th>\n",
       "      <th></th>\n",
       "      <th></th>\n",
       "      <th></th>\n",
       "    </tr>\n",
       "  </thead>\n",
       "  <tbody>\n",
       "    <tr>\n",
       "      <th rowspan=\"5\" valign=\"top\">Dead</th>\n",
       "      <th>Cancer</th>\n",
       "      <td>60.921348</td>\n",
       "      <td>47.280148</td>\n",
       "      <td>65.182495</td>\n",
       "      <td>155.343228</td>\n",
       "      <td>85.682746</td>\n",
       "      <td>138.395176</td>\n",
       "      <td>120.430427</td>\n",
       "      <td>11.466418</td>\n",
       "      <td>68.879406</td>\n",
       "      <td>227.869482</td>\n",
       "    </tr>\n",
       "    <tr>\n",
       "      <th>Cerebral Vascular Disease</th>\n",
       "      <td>63.445545</td>\n",
       "      <td>50.849206</td>\n",
       "      <td>64.418651</td>\n",
       "      <td>157.756614</td>\n",
       "      <td>92.050265</td>\n",
       "      <td>154.380952</td>\n",
       "      <td>125.306878</td>\n",
       "      <td>9.616622</td>\n",
       "      <td>71.896825</td>\n",
       "      <td>235.438017</td>\n",
       "    </tr>\n",
       "    <tr>\n",
       "      <th>Coronary Heart Disease</th>\n",
       "      <td>63.664463</td>\n",
       "      <td>48.828099</td>\n",
       "      <td>65.480960</td>\n",
       "      <td>164.160596</td>\n",
       "      <td>91.669421</td>\n",
       "      <td>149.244628</td>\n",
       "      <td>125.422185</td>\n",
       "      <td>11.440735</td>\n",
       "      <td>70.328926</td>\n",
       "      <td>246.981132</td>\n",
       "    </tr>\n",
       "    <tr>\n",
       "      <th>Other</th>\n",
       "      <td>66.262500</td>\n",
       "      <td>48.607843</td>\n",
       "      <td>64.584507</td>\n",
       "      <td>154.633803</td>\n",
       "      <td>89.095238</td>\n",
       "      <td>143.966387</td>\n",
       "      <td>121.774648</td>\n",
       "      <td>10.481586</td>\n",
       "      <td>71.308123</td>\n",
       "      <td>230.780980</td>\n",
       "    </tr>\n",
       "    <tr>\n",
       "      <th>Unknown</th>\n",
       "      <td>60.052632</td>\n",
       "      <td>49.955357</td>\n",
       "      <td>64.598214</td>\n",
       "      <td>153.919643</td>\n",
       "      <td>89.321429</td>\n",
       "      <td>146.151786</td>\n",
       "      <td>121.321429</td>\n",
       "      <td>10.190909</td>\n",
       "      <td>72.580357</td>\n",
       "      <td>240.287037</td>\n",
       "    </tr>\n",
       "  </tbody>\n",
       "</table>\n",
       "</div>"
      ],
      "text/plain": [
       "                                  AgeCHDdiag  AgeAtStart     Height  \\\n",
       "Status DeathCause                                                     \n",
       "Dead   Cancer                      60.921348   47.280148  65.182495   \n",
       "       Cerebral Vascular Disease   63.445545   50.849206  64.418651   \n",
       "       Coronary Heart Disease      63.664463   48.828099  65.480960   \n",
       "       Other                       66.262500   48.607843  64.584507   \n",
       "       Unknown                     60.052632   49.955357  64.598214   \n",
       "\n",
       "                                      Weight  Diastolic    Systolic  \\\n",
       "Status DeathCause                                                     \n",
       "Dead   Cancer                     155.343228  85.682746  138.395176   \n",
       "       Cerebral Vascular Disease  157.756614  92.050265  154.380952   \n",
       "       Coronary Heart Disease     164.160596  91.669421  149.244628   \n",
       "       Other                      154.633803  89.095238  143.966387   \n",
       "       Unknown                    153.919643  89.321429  146.151786   \n",
       "\n",
       "                                         MRW    Smoking  AgeAtDeath  \\\n",
       "Status DeathCause                                                     \n",
       "Dead   Cancer                     120.430427  11.466418   68.879406   \n",
       "       Cerebral Vascular Disease  125.306878   9.616622   71.896825   \n",
       "       Coronary Heart Disease     125.422185  11.440735   70.328926   \n",
       "       Other                      121.774648  10.481586   71.308123   \n",
       "       Unknown                    121.321429  10.190909   72.580357   \n",
       "\n",
       "                                  Cholesterol  \n",
       "Status DeathCause                              \n",
       "Dead   Cancer                      227.869482  \n",
       "       Cerebral Vascular Disease   235.438017  \n",
       "       Coronary Heart Disease      246.981132  \n",
       "       Other                       230.780980  \n",
       "       Unknown                     240.287037  "
      ]
     },
     "execution_count": 11,
     "metadata": {},
     "output_type": "execute_result"
    }
   ],
   "source": [
    "#use two columns to groupby\n",
    "df.groupby(['Status', 'DeathCause']).mean()"
   ]
  },
  {
   "cell_type": "code",
   "execution_count": 12,
   "metadata": {},
   "outputs": [
    {
     "data": {
      "text/plain": [
       "0       False\n",
       "1       False\n",
       "2       False\n",
       "3       False\n",
       "4       False\n",
       "5       False\n",
       "6       False\n",
       "7       False\n",
       "8       False\n",
       "9       False\n",
       "10      False\n",
       "11      False\n",
       "12      False\n",
       "13      False\n",
       "14      False\n",
       "15      False\n",
       "16      False\n",
       "17      False\n",
       "18      False\n",
       "19      False\n",
       "20      False\n",
       "21      False\n",
       "22      False\n",
       "23      False\n",
       "24      False\n",
       "25      False\n",
       "26      False\n",
       "27      False\n",
       "28      False\n",
       "29      False\n",
       "        ...  \n",
       "5179    False\n",
       "5180    False\n",
       "5181    False\n",
       "5182    False\n",
       "5183    False\n",
       "5184    False\n",
       "5185    False\n",
       "5186    False\n",
       "5187    False\n",
       "5188    False\n",
       "5189    False\n",
       "5190    False\n",
       "5191    False\n",
       "5192    False\n",
       "5193    False\n",
       "5194    False\n",
       "5195    False\n",
       "5196    False\n",
       "5197    False\n",
       "5198    False\n",
       "5199    False\n",
       "5200    False\n",
       "5201    False\n",
       "5202    False\n",
       "5203    False\n",
       "5204    False\n",
       "5205    False\n",
       "5206    False\n",
       "5207    False\n",
       "5208    False\n",
       "Length: 5209, dtype: bool"
      ]
     },
     "execution_count": 12,
     "metadata": {},
     "output_type": "execute_result"
    }
   ],
   "source": [
    "#FIND Duplicates\n",
    "df.duplicated()"
   ]
  },
  {
   "cell_type": "code",
   "execution_count": 12,
   "metadata": {},
   "outputs": [
    {
     "data": {
      "text/html": [
       "<div>\n",
       "<style>\n",
       "    .dataframe thead tr:only-child th {\n",
       "        text-align: right;\n",
       "    }\n",
       "\n",
       "    .dataframe thead th {\n",
       "        text-align: left;\n",
       "    }\n",
       "\n",
       "    .dataframe tbody tr th {\n",
       "        vertical-align: top;\n",
       "    }\n",
       "</style>\n",
       "<table border=\"1\" class=\"dataframe\">\n",
       "  <thead>\n",
       "    <tr style=\"text-align: right;\">\n",
       "      <th></th>\n",
       "      <th>AgeAtDeath</th>\n",
       "      <th>AgeAtStart</th>\n",
       "      <th>AgeCHDdiag</th>\n",
       "      <th>Cholesterol</th>\n",
       "      <th>Diastolic</th>\n",
       "      <th>Height</th>\n",
       "      <th>MRW</th>\n",
       "      <th>Smoking</th>\n",
       "      <th>Systolic</th>\n",
       "      <th>Weight</th>\n",
       "    </tr>\n",
       "    <tr>\n",
       "      <th>Sex</th>\n",
       "      <th></th>\n",
       "      <th></th>\n",
       "      <th></th>\n",
       "      <th></th>\n",
       "      <th></th>\n",
       "      <th></th>\n",
       "      <th></th>\n",
       "      <th></th>\n",
       "      <th></th>\n",
       "      <th></th>\n",
       "    </tr>\n",
       "  </thead>\n",
       "  <tbody>\n",
       "    <tr>\n",
       "      <th>Female</th>\n",
       "      <td>71.566964</td>\n",
       "      <td>44.051514</td>\n",
       "      <td>65.654723</td>\n",
       "      <td>228.541817</td>\n",
       "      <td>84.646363</td>\n",
       "      <td>62.572586</td>\n",
       "      <td>120.771349</td>\n",
       "      <td>5.406863</td>\n",
       "      <td>136.886182</td>\n",
       "      <td>141.388637</td>\n",
       "    </tr>\n",
       "    <tr>\n",
       "      <th>Male</th>\n",
       "      <td>69.693151</td>\n",
       "      <td>44.089897</td>\n",
       "      <td>61.573653</td>\n",
       "      <td>226.051248</td>\n",
       "      <td>86.234589</td>\n",
       "      <td>67.567374</td>\n",
       "      <td>118.957155</td>\n",
       "      <td>14.247303</td>\n",
       "      <td>136.938356</td>\n",
       "      <td>167.466153</td>\n",
       "    </tr>\n",
       "  </tbody>\n",
       "</table>\n",
       "</div>"
      ],
      "text/plain": [
       "        AgeAtDeath  AgeAtStart  AgeCHDdiag  Cholesterol  Diastolic     Height  \\\n",
       "Sex                                                                             \n",
       "Female   71.566964   44.051514   65.654723   228.541817  84.646363  62.572586   \n",
       "Male     69.693151   44.089897   61.573653   226.051248  86.234589  67.567374   \n",
       "\n",
       "               MRW    Smoking    Systolic      Weight  \n",
       "Sex                                                    \n",
       "Female  120.771349   5.406863  136.886182  141.388637  \n",
       "Male    118.957155  14.247303  136.938356  167.466153  "
      ]
     },
     "execution_count": 12,
     "metadata": {},
     "output_type": "execute_result"
    }
   ],
   "source": [
    "#pivot table default function is mean\n",
    "pd.pivot_table(df, index=['Sex'])"
   ]
  },
  {
   "cell_type": "code",
   "execution_count": 13,
   "metadata": {},
   "outputs": [
    {
     "data": {
      "text/html": [
       "<div>\n",
       "<style>\n",
       "    .dataframe thead tr:only-child th {\n",
       "        text-align: right;\n",
       "    }\n",
       "\n",
       "    .dataframe thead th {\n",
       "        text-align: left;\n",
       "    }\n",
       "\n",
       "    .dataframe tbody tr th {\n",
       "        vertical-align: top;\n",
       "    }\n",
       "</style>\n",
       "<table border=\"1\" class=\"dataframe\">\n",
       "  <thead>\n",
       "    <tr style=\"text-align: right;\">\n",
       "      <th></th>\n",
       "      <th>Cholesterol</th>\n",
       "    </tr>\n",
       "    <tr>\n",
       "      <th>Sex</th>\n",
       "      <th></th>\n",
       "    </tr>\n",
       "  </thead>\n",
       "  <tbody>\n",
       "    <tr>\n",
       "      <th>Female</th>\n",
       "      <td>228.541817</td>\n",
       "    </tr>\n",
       "    <tr>\n",
       "      <th>Male</th>\n",
       "      <td>226.051248</td>\n",
       "    </tr>\n",
       "  </tbody>\n",
       "</table>\n",
       "</div>"
      ],
      "text/plain": [
       "        Cholesterol\n",
       "Sex                \n",
       "Female   228.541817\n",
       "Male     226.051248"
      ]
     },
     "execution_count": 13,
     "metadata": {},
     "output_type": "execute_result"
    }
   ],
   "source": [
    "pd.pivot_table(df, values=['Cholesterol'], index=['Sex'])"
   ]
  },
  {
   "cell_type": "code",
   "execution_count": 14,
   "metadata": {},
   "outputs": [
    {
     "data": {
      "text/plain": [
       "array([  nan,  181.,  250.,  242.,  281.,  196.,  276.,  211.,  284.,\n",
       "        225.,  221.,  188.,  292.,  192.,  194.,  200.,  233.,  209.,\n",
       "        184.,  228.,  150.,  319.,  263.,  205.,  267.,  247.,  223.,\n",
       "        186.,  161.,  226.,  286.,  234.,  213.,  202.,  246.,  230.,\n",
       "        224.,  253.,  167.,  198.,  280.,  330.,  305.,  271.,  159.,\n",
       "        261.,  339.,  163.,  255.,  300.,  275.,  165.,  179.,  265.,\n",
       "        153.,  217.,  324.,  142.,  347.,  238.,  199.,  301.,  288.,\n",
       "        182.,  207.,  180.,  166.,  326.,  307.,  418.,  232.,  334.,\n",
       "        353.,  214.,  244.,  266.,  333.,  155.,  313.,  173.,  290.,\n",
       "        171.,  220.,  138.,  258.,  282.,  278.,  248.,  317.,  269.,\n",
       "        229.,  237.,  215.,  268.,  304.,  175.,  296.,  219.,  208.,\n",
       "        335.,  315.,  259.,  338.,  240.,  243.,  321.,  342.,  359.,\n",
       "        177.,  260.,  176.,  154.,  367.,  309.,  236.,  534.,  178.,\n",
       "        350.,  172.,  368.,  272.,  157.,  204.,  231.,  376.,  316.,\n",
       "        174.,  323.,  356.,  227.,  302.,  270.,  148.,  190.,  289.,\n",
       "        146.,  245.,  216.,  254.,  170.,  241.,  291.,  277.,  274.,\n",
       "        355.,  273.,  252.,  197.,  158.,  310.,  203.,  384.,  193.,\n",
       "        212.,  285.,  249.,  492.,  283.,  239.,  318.,  129.,  195.,\n",
       "        210.,  218.,  191.,  256.,  183.,  222.,  294.,  322.,  206.,\n",
       "        380.,  308.,  358.,  149.,  162.,  493.,  298.,  128.,  121.,\n",
       "        134.,  312.,  235.,  392.,  479.,  201.,  118.,  363.,  185.,\n",
       "        306.,  320.,  130.,  405.,  140.,  295.,  262.,  151.,  124.,\n",
       "        169.,  336.,  346.,  344.,  287.,  328.,  327.,  425.,  187.,\n",
       "        325.,  340.,  189.,  369.,  164.,  147.,  251.,  125.,  145.,\n",
       "        568.,  429.,  299.,  117.,  362.,  331.,  343.,  409.,  160.,\n",
       "        435.,  382.,   96.,  143.,  264.,  420.,  329.,  279.,  115.,\n",
       "        257.,  386.,  345.,  357.,  311.,  144.,  375.,  168.,  351.,\n",
       "        314.,  352.,  156.,  337.,  136.,  135.,  400.,  360.])"
      ]
     },
     "execution_count": 14,
     "metadata": {},
     "output_type": "execute_result"
    }
   ],
   "source": [
    "#unique values in a column\n",
    "df['Cholesterol'].unique()"
   ]
  },
  {
   "cell_type": "code",
   "execution_count": 15,
   "metadata": {
    "scrolled": true
   },
   "outputs": [
    {
     "data": {
      "text/html": [
       "<div>\n",
       "<style>\n",
       "    .dataframe thead tr:only-child th {\n",
       "        text-align: right;\n",
       "    }\n",
       "\n",
       "    .dataframe thead th {\n",
       "        text-align: left;\n",
       "    }\n",
       "\n",
       "    .dataframe tbody tr th {\n",
       "        vertical-align: top;\n",
       "    }\n",
       "</style>\n",
       "<table border=\"1\" class=\"dataframe\">\n",
       "  <thead>\n",
       "    <tr style=\"text-align: right;\">\n",
       "      <th></th>\n",
       "      <th>Status</th>\n",
       "      <th>DeathCause</th>\n",
       "      <th>AgeCHDdiag</th>\n",
       "      <th>Sex</th>\n",
       "      <th>AgeAtStart</th>\n",
       "      <th>Height</th>\n",
       "      <th>Weight</th>\n",
       "      <th>Diastolic</th>\n",
       "      <th>Systolic</th>\n",
       "      <th>MRW</th>\n",
       "      <th>Smoking</th>\n",
       "      <th>AgeAtDeath</th>\n",
       "      <th>Cholesterol</th>\n",
       "      <th>Chol_Status</th>\n",
       "      <th>BP_Status</th>\n",
       "      <th>Weight_Status</th>\n",
       "      <th>Smoking_Status</th>\n",
       "    </tr>\n",
       "  </thead>\n",
       "  <tbody>\n",
       "    <tr>\n",
       "      <th>0</th>\n",
       "      <td>Dead</td>\n",
       "      <td>Other</td>\n",
       "      <td>NaN</td>\n",
       "      <td>Female</td>\n",
       "      <td>29</td>\n",
       "      <td>62.50</td>\n",
       "      <td>140.0</td>\n",
       "      <td>78</td>\n",
       "      <td>124</td>\n",
       "      <td>121.0</td>\n",
       "      <td>0.0</td>\n",
       "      <td>55.0</td>\n",
       "      <td>NaN</td>\n",
       "      <td>NaN</td>\n",
       "      <td>Normal</td>\n",
       "      <td>Overweight</td>\n",
       "      <td>Non-smoker</td>\n",
       "    </tr>\n",
       "    <tr>\n",
       "      <th>1</th>\n",
       "      <td>Dead</td>\n",
       "      <td>Cancer</td>\n",
       "      <td>NaN</td>\n",
       "      <td>Female</td>\n",
       "      <td>41</td>\n",
       "      <td>59.75</td>\n",
       "      <td>194.0</td>\n",
       "      <td>92</td>\n",
       "      <td>144</td>\n",
       "      <td>183.0</td>\n",
       "      <td>0.0</td>\n",
       "      <td>57.0</td>\n",
       "      <td>181.0</td>\n",
       "      <td>Desirable</td>\n",
       "      <td>High</td>\n",
       "      <td>Overweight</td>\n",
       "      <td>Non-smoker</td>\n",
       "    </tr>\n",
       "    <tr>\n",
       "      <th>2</th>\n",
       "      <td>Alive</td>\n",
       "      <td>NaN</td>\n",
       "      <td>NaN</td>\n",
       "      <td>Female</td>\n",
       "      <td>57</td>\n",
       "      <td>62.25</td>\n",
       "      <td>132.0</td>\n",
       "      <td>90</td>\n",
       "      <td>170</td>\n",
       "      <td>114.0</td>\n",
       "      <td>10.0</td>\n",
       "      <td>NaN</td>\n",
       "      <td>250.0</td>\n",
       "      <td>High</td>\n",
       "      <td>High</td>\n",
       "      <td>Overweight</td>\n",
       "      <td>Moderate (6-15)</td>\n",
       "    </tr>\n",
       "    <tr>\n",
       "      <th>3</th>\n",
       "      <td>Alive</td>\n",
       "      <td>NaN</td>\n",
       "      <td>NaN</td>\n",
       "      <td>Female</td>\n",
       "      <td>39</td>\n",
       "      <td>65.75</td>\n",
       "      <td>158.0</td>\n",
       "      <td>80</td>\n",
       "      <td>128</td>\n",
       "      <td>123.0</td>\n",
       "      <td>0.0</td>\n",
       "      <td>NaN</td>\n",
       "      <td>242.0</td>\n",
       "      <td>High</td>\n",
       "      <td>Normal</td>\n",
       "      <td>Overweight</td>\n",
       "      <td>Non-smoker</td>\n",
       "    </tr>\n",
       "    <tr>\n",
       "      <th>4</th>\n",
       "      <td>Alive</td>\n",
       "      <td>NaN</td>\n",
       "      <td>NaN</td>\n",
       "      <td>Male</td>\n",
       "      <td>42</td>\n",
       "      <td>66.00</td>\n",
       "      <td>156.0</td>\n",
       "      <td>76</td>\n",
       "      <td>110</td>\n",
       "      <td>116.0</td>\n",
       "      <td>20.0</td>\n",
       "      <td>NaN</td>\n",
       "      <td>281.0</td>\n",
       "      <td>High</td>\n",
       "      <td>Optimal</td>\n",
       "      <td>Overweight</td>\n",
       "      <td>Heavy (16-25)</td>\n",
       "    </tr>\n",
       "  </tbody>\n",
       "</table>\n",
       "</div>"
      ],
      "text/plain": [
       "  Status DeathCause  AgeCHDdiag     Sex  AgeAtStart  Height  Weight  \\\n",
       "0   Dead      Other         NaN  Female          29   62.50   140.0   \n",
       "1   Dead     Cancer         NaN  Female          41   59.75   194.0   \n",
       "2  Alive        NaN         NaN  Female          57   62.25   132.0   \n",
       "3  Alive        NaN         NaN  Female          39   65.75   158.0   \n",
       "4  Alive        NaN         NaN    Male          42   66.00   156.0   \n",
       "\n",
       "   Diastolic  Systolic    MRW  Smoking  AgeAtDeath  Cholesterol Chol_Status  \\\n",
       "0         78       124  121.0      0.0        55.0          NaN         NaN   \n",
       "1         92       144  183.0      0.0        57.0        181.0   Desirable   \n",
       "2         90       170  114.0     10.0         NaN        250.0        High   \n",
       "3         80       128  123.0      0.0         NaN        242.0        High   \n",
       "4         76       110  116.0     20.0         NaN        281.0        High   \n",
       "\n",
       "  BP_Status Weight_Status   Smoking_Status  \n",
       "0    Normal    Overweight       Non-smoker  \n",
       "1      High    Overweight       Non-smoker  \n",
       "2      High    Overweight  Moderate (6-15)  \n",
       "3    Normal    Overweight       Non-smoker  \n",
       "4   Optimal    Overweight    Heavy (16-25)  "
      ]
     },
     "execution_count": 15,
     "metadata": {},
     "output_type": "execute_result"
    }
   ],
   "source": [
    "\n",
    "df.head()"
   ]
  },
  {
   "cell_type": "code",
   "execution_count": 16,
   "metadata": {
    "collapsed": true
   },
   "outputs": [],
   "source": [
    "#boolean values for if there's another row with the exact values in each column\n",
    "dupe = df.duplicated()\n",
    "#duplicate of Jessica, 95; John, 78\n",
    "#returns false on first instance of duplicate row"
   ]
  },
  {
   "cell_type": "code",
   "execution_count": 17,
   "metadata": {},
   "outputs": [
    {
     "data": {
      "text/html": [
       "<div>\n",
       "<style>\n",
       "    .dataframe thead tr:only-child th {\n",
       "        text-align: right;\n",
       "    }\n",
       "\n",
       "    .dataframe thead th {\n",
       "        text-align: left;\n",
       "    }\n",
       "\n",
       "    .dataframe tbody tr th {\n",
       "        vertical-align: top;\n",
       "    }\n",
       "</style>\n",
       "<table border=\"1\" class=\"dataframe\">\n",
       "  <thead>\n",
       "    <tr style=\"text-align: right;\">\n",
       "      <th></th>\n",
       "      <th>Status</th>\n",
       "      <th>DeathCause</th>\n",
       "      <th>AgeCHDdiag</th>\n",
       "      <th>Sex</th>\n",
       "      <th>AgeAtStart</th>\n",
       "      <th>Height</th>\n",
       "      <th>Weight</th>\n",
       "      <th>Diastolic</th>\n",
       "      <th>Systolic</th>\n",
       "      <th>MRW</th>\n",
       "      <th>Smoking</th>\n",
       "      <th>AgeAtDeath</th>\n",
       "      <th>Cholesterol</th>\n",
       "      <th>Chol_Status</th>\n",
       "      <th>BP_Status</th>\n",
       "      <th>Weight_Status</th>\n",
       "      <th>Smoking_Status</th>\n",
       "    </tr>\n",
       "  </thead>\n",
       "  <tbody>\n",
       "  </tbody>\n",
       "</table>\n",
       "</div>"
      ],
      "text/plain": [
       "Empty DataFrame\n",
       "Columns: [Status, DeathCause, AgeCHDdiag, Sex, AgeAtStart, Height, Weight, Diastolic, Systolic, MRW, Smoking, AgeAtDeath, Cholesterol, Chol_Status, BP_Status, Weight_Status, Smoking_Status]\n",
       "Index: []"
      ]
     },
     "execution_count": 17,
     "metadata": {},
     "output_type": "execute_result"
    }
   ],
   "source": [
    "df.loc[dupe]"
   ]
  },
  {
   "cell_type": "code",
   "execution_count": 18,
   "metadata": {},
   "outputs": [
    {
     "ename": "KeyError",
     "evalue": "'inlinei'",
     "output_type": "error",
     "traceback": [
      "\u001b[1;31m---------------------------------------------------------------------------\u001b[0m",
      "\u001b[1;31mKeyError\u001b[0m                                  Traceback (most recent call last)",
      "\u001b[1;32m<ipython-input-18-487687f6d32a>\u001b[0m in \u001b[0;36m<module>\u001b[1;34m()\u001b[0m\n\u001b[0;32m      3\u001b[0m \u001b[1;32mimport\u001b[0m \u001b[0mseaborn\u001b[0m \u001b[1;32mas\u001b[0m \u001b[0msns\u001b[0m\u001b[1;33m\u001b[0m\u001b[0m\n\u001b[0;32m      4\u001b[0m \u001b[1;33m\u001b[0m\u001b[0m\n\u001b[1;32m----> 5\u001b[1;33m \u001b[0mget_ipython\u001b[0m\u001b[1;33m(\u001b[0m\u001b[1;33m)\u001b[0m\u001b[1;33m.\u001b[0m\u001b[0mmagic\u001b[0m\u001b[1;33m(\u001b[0m\u001b[1;34m'matplotlib inlinei'\u001b[0m\u001b[1;33m)\u001b[0m\u001b[1;33m\u001b[0m\u001b[0m\n\u001b[0m",
      "\u001b[1;32mC:\\ProgramData\\Anaconda3\\lib\\site-packages\\IPython\\core\\interactiveshell.py\u001b[0m in \u001b[0;36mmagic\u001b[1;34m(self, arg_s)\u001b[0m\n\u001b[0;32m   2144\u001b[0m         \u001b[0mmagic_name\u001b[0m\u001b[1;33m,\u001b[0m \u001b[0m_\u001b[0m\u001b[1;33m,\u001b[0m \u001b[0mmagic_arg_s\u001b[0m \u001b[1;33m=\u001b[0m \u001b[0marg_s\u001b[0m\u001b[1;33m.\u001b[0m\u001b[0mpartition\u001b[0m\u001b[1;33m(\u001b[0m\u001b[1;34m' '\u001b[0m\u001b[1;33m)\u001b[0m\u001b[1;33m\u001b[0m\u001b[0m\n\u001b[0;32m   2145\u001b[0m         \u001b[0mmagic_name\u001b[0m \u001b[1;33m=\u001b[0m \u001b[0mmagic_name\u001b[0m\u001b[1;33m.\u001b[0m\u001b[0mlstrip\u001b[0m\u001b[1;33m(\u001b[0m\u001b[0mprefilter\u001b[0m\u001b[1;33m.\u001b[0m\u001b[0mESC_MAGIC\u001b[0m\u001b[1;33m)\u001b[0m\u001b[1;33m\u001b[0m\u001b[0m\n\u001b[1;32m-> 2146\u001b[1;33m         \u001b[1;32mreturn\u001b[0m \u001b[0mself\u001b[0m\u001b[1;33m.\u001b[0m\u001b[0mrun_line_magic\u001b[0m\u001b[1;33m(\u001b[0m\u001b[0mmagic_name\u001b[0m\u001b[1;33m,\u001b[0m \u001b[0mmagic_arg_s\u001b[0m\u001b[1;33m)\u001b[0m\u001b[1;33m\u001b[0m\u001b[0m\n\u001b[0m\u001b[0;32m   2147\u001b[0m \u001b[1;33m\u001b[0m\u001b[0m\n\u001b[0;32m   2148\u001b[0m     \u001b[1;31m#-------------------------------------------------------------------------\u001b[0m\u001b[1;33m\u001b[0m\u001b[1;33m\u001b[0m\u001b[0m\n",
      "\u001b[1;32mC:\\ProgramData\\Anaconda3\\lib\\site-packages\\IPython\\core\\interactiveshell.py\u001b[0m in \u001b[0;36mrun_line_magic\u001b[1;34m(self, magic_name, line)\u001b[0m\n\u001b[0;32m   2065\u001b[0m                 \u001b[0mkwargs\u001b[0m\u001b[1;33m[\u001b[0m\u001b[1;34m'local_ns'\u001b[0m\u001b[1;33m]\u001b[0m \u001b[1;33m=\u001b[0m \u001b[0msys\u001b[0m\u001b[1;33m.\u001b[0m\u001b[0m_getframe\u001b[0m\u001b[1;33m(\u001b[0m\u001b[0mstack_depth\u001b[0m\u001b[1;33m)\u001b[0m\u001b[1;33m.\u001b[0m\u001b[0mf_locals\u001b[0m\u001b[1;33m\u001b[0m\u001b[0m\n\u001b[0;32m   2066\u001b[0m             \u001b[1;32mwith\u001b[0m \u001b[0mself\u001b[0m\u001b[1;33m.\u001b[0m\u001b[0mbuiltin_trap\u001b[0m\u001b[1;33m:\u001b[0m\u001b[1;33m\u001b[0m\u001b[0m\n\u001b[1;32m-> 2067\u001b[1;33m                 \u001b[0mresult\u001b[0m \u001b[1;33m=\u001b[0m \u001b[0mfn\u001b[0m\u001b[1;33m(\u001b[0m\u001b[1;33m*\u001b[0m\u001b[0margs\u001b[0m\u001b[1;33m,\u001b[0m\u001b[1;33m**\u001b[0m\u001b[0mkwargs\u001b[0m\u001b[1;33m)\u001b[0m\u001b[1;33m\u001b[0m\u001b[0m\n\u001b[0m\u001b[0;32m   2068\u001b[0m             \u001b[1;32mreturn\u001b[0m \u001b[0mresult\u001b[0m\u001b[1;33m\u001b[0m\u001b[0m\n\u001b[0;32m   2069\u001b[0m \u001b[1;33m\u001b[0m\u001b[0m\n",
      "\u001b[1;32m<decorator-gen-108>\u001b[0m in \u001b[0;36mmatplotlib\u001b[1;34m(self, line)\u001b[0m\n",
      "\u001b[1;32mC:\\ProgramData\\Anaconda3\\lib\\site-packages\\IPython\\core\\magic.py\u001b[0m in \u001b[0;36m<lambda>\u001b[1;34m(f, *a, **k)\u001b[0m\n\u001b[0;32m    185\u001b[0m     \u001b[1;31m# but it's overkill for just that one bit of state.\u001b[0m\u001b[1;33m\u001b[0m\u001b[1;33m\u001b[0m\u001b[0m\n\u001b[0;32m    186\u001b[0m     \u001b[1;32mdef\u001b[0m \u001b[0mmagic_deco\u001b[0m\u001b[1;33m(\u001b[0m\u001b[0marg\u001b[0m\u001b[1;33m)\u001b[0m\u001b[1;33m:\u001b[0m\u001b[1;33m\u001b[0m\u001b[0m\n\u001b[1;32m--> 187\u001b[1;33m         \u001b[0mcall\u001b[0m \u001b[1;33m=\u001b[0m \u001b[1;32mlambda\u001b[0m \u001b[0mf\u001b[0m\u001b[1;33m,\u001b[0m \u001b[1;33m*\u001b[0m\u001b[0ma\u001b[0m\u001b[1;33m,\u001b[0m \u001b[1;33m**\u001b[0m\u001b[0mk\u001b[0m\u001b[1;33m:\u001b[0m \u001b[0mf\u001b[0m\u001b[1;33m(\u001b[0m\u001b[1;33m*\u001b[0m\u001b[0ma\u001b[0m\u001b[1;33m,\u001b[0m \u001b[1;33m**\u001b[0m\u001b[0mk\u001b[0m\u001b[1;33m)\u001b[0m\u001b[1;33m\u001b[0m\u001b[0m\n\u001b[0m\u001b[0;32m    188\u001b[0m \u001b[1;33m\u001b[0m\u001b[0m\n\u001b[0;32m    189\u001b[0m         \u001b[1;32mif\u001b[0m \u001b[0mcallable\u001b[0m\u001b[1;33m(\u001b[0m\u001b[0marg\u001b[0m\u001b[1;33m)\u001b[0m\u001b[1;33m:\u001b[0m\u001b[1;33m\u001b[0m\u001b[0m\n",
      "\u001b[1;32mC:\\ProgramData\\Anaconda3\\lib\\site-packages\\IPython\\core\\magics\\pylab.py\u001b[0m in \u001b[0;36mmatplotlib\u001b[1;34m(self, line)\u001b[0m\n\u001b[0;32m     97\u001b[0m             \u001b[0mprint\u001b[0m\u001b[1;33m(\u001b[0m\u001b[1;34m\"Available matplotlib backends: %s\"\u001b[0m \u001b[1;33m%\u001b[0m \u001b[0mbackends_list\u001b[0m\u001b[1;33m)\u001b[0m\u001b[1;33m\u001b[0m\u001b[0m\n\u001b[0;32m     98\u001b[0m         \u001b[1;32melse\u001b[0m\u001b[1;33m:\u001b[0m\u001b[1;33m\u001b[0m\u001b[0m\n\u001b[1;32m---> 99\u001b[1;33m             \u001b[0mgui\u001b[0m\u001b[1;33m,\u001b[0m \u001b[0mbackend\u001b[0m \u001b[1;33m=\u001b[0m \u001b[0mself\u001b[0m\u001b[1;33m.\u001b[0m\u001b[0mshell\u001b[0m\u001b[1;33m.\u001b[0m\u001b[0menable_matplotlib\u001b[0m\u001b[1;33m(\u001b[0m\u001b[0margs\u001b[0m\u001b[1;33m.\u001b[0m\u001b[0mgui\u001b[0m\u001b[1;33m)\u001b[0m\u001b[1;33m\u001b[0m\u001b[0m\n\u001b[0m\u001b[0;32m    100\u001b[0m             \u001b[0mself\u001b[0m\u001b[1;33m.\u001b[0m\u001b[0m_show_matplotlib_backend\u001b[0m\u001b[1;33m(\u001b[0m\u001b[0margs\u001b[0m\u001b[1;33m.\u001b[0m\u001b[0mgui\u001b[0m\u001b[1;33m,\u001b[0m \u001b[0mbackend\u001b[0m\u001b[1;33m)\u001b[0m\u001b[1;33m\u001b[0m\u001b[0m\n\u001b[0;32m    101\u001b[0m \u001b[1;33m\u001b[0m\u001b[0m\n",
      "\u001b[1;32mC:\\ProgramData\\Anaconda3\\lib\\site-packages\\IPython\\core\\interactiveshell.py\u001b[0m in \u001b[0;36menable_matplotlib\u001b[1;34m(self, gui)\u001b[0m\n\u001b[0;32m   2916\u001b[0m         \"\"\"\n\u001b[0;32m   2917\u001b[0m         \u001b[1;32mfrom\u001b[0m \u001b[0mIPython\u001b[0m\u001b[1;33m.\u001b[0m\u001b[0mcore\u001b[0m \u001b[1;32mimport\u001b[0m \u001b[0mpylabtools\u001b[0m \u001b[1;32mas\u001b[0m \u001b[0mpt\u001b[0m\u001b[1;33m\u001b[0m\u001b[0m\n\u001b[1;32m-> 2918\u001b[1;33m         \u001b[0mgui\u001b[0m\u001b[1;33m,\u001b[0m \u001b[0mbackend\u001b[0m \u001b[1;33m=\u001b[0m \u001b[0mpt\u001b[0m\u001b[1;33m.\u001b[0m\u001b[0mfind_gui_and_backend\u001b[0m\u001b[1;33m(\u001b[0m\u001b[0mgui\u001b[0m\u001b[1;33m,\u001b[0m \u001b[0mself\u001b[0m\u001b[1;33m.\u001b[0m\u001b[0mpylab_gui_select\u001b[0m\u001b[1;33m)\u001b[0m\u001b[1;33m\u001b[0m\u001b[0m\n\u001b[0m\u001b[0;32m   2919\u001b[0m \u001b[1;33m\u001b[0m\u001b[0m\n\u001b[0;32m   2920\u001b[0m         \u001b[1;32mif\u001b[0m \u001b[0mgui\u001b[0m \u001b[1;33m!=\u001b[0m \u001b[1;34m'inline'\u001b[0m\u001b[1;33m:\u001b[0m\u001b[1;33m\u001b[0m\u001b[0m\n",
      "\u001b[1;32mC:\\ProgramData\\Anaconda3\\lib\\site-packages\\IPython\\core\\pylabtools.py\u001b[0m in \u001b[0;36mfind_gui_and_backend\u001b[1;34m(gui, gui_select)\u001b[0m\n\u001b[0;32m    271\u001b[0m     \u001b[1;32mif\u001b[0m \u001b[0mgui\u001b[0m \u001b[1;32mand\u001b[0m \u001b[0mgui\u001b[0m \u001b[1;33m!=\u001b[0m \u001b[1;34m'auto'\u001b[0m\u001b[1;33m:\u001b[0m\u001b[1;33m\u001b[0m\u001b[0m\n\u001b[0;32m    272\u001b[0m         \u001b[1;31m# select backend based on requested gui\u001b[0m\u001b[1;33m\u001b[0m\u001b[1;33m\u001b[0m\u001b[0m\n\u001b[1;32m--> 273\u001b[1;33m         \u001b[0mbackend\u001b[0m \u001b[1;33m=\u001b[0m \u001b[0mbackends\u001b[0m\u001b[1;33m[\u001b[0m\u001b[0mgui\u001b[0m\u001b[1;33m]\u001b[0m\u001b[1;33m\u001b[0m\u001b[0m\n\u001b[0m\u001b[0;32m    274\u001b[0m         \u001b[1;32mif\u001b[0m \u001b[0mgui\u001b[0m \u001b[1;33m==\u001b[0m \u001b[1;34m'agg'\u001b[0m\u001b[1;33m:\u001b[0m\u001b[1;33m\u001b[0m\u001b[0m\n\u001b[0;32m    275\u001b[0m             \u001b[0mgui\u001b[0m \u001b[1;33m=\u001b[0m \u001b[1;32mNone\u001b[0m\u001b[1;33m\u001b[0m\u001b[0m\n",
      "\u001b[1;31mKeyError\u001b[0m: 'inlinei'"
     ]
    }
   ],
   "source": [
    "import pandas as pd\n",
    "from matplotlib import pyplot as plt\n",
    "import seaborn as sns\n",
    "\n",
    "%matplotlib inlinei"
   ]
  },
  {
   "cell_type": "code",
   "execution_count": 28,
   "metadata": {},
   "outputs": [
    {
     "name": "stderr",
     "output_type": "stream",
     "text": [
      "C:\\Users\\jaysh\\Anaconda\\lib\\site-packages\\scipy\\stats\\stats.py:1713: FutureWarning: Using a non-tuple sequence for multidimensional indexing is deprecated; use `arr[tuple(seq)]` instead of `arr[seq]`. In the future this will be interpreted as an array index, `arr[np.array(seq)]`, which will result either in an error or a different result.\n",
      "  return np.add.reduce(sorted[indexer] * weights, axis=axis) / sumval\n"
     ]
    },
    {
     "data": {
      "text/plain": [
       "<seaborn.axisgrid.FacetGrid at 0x23625c26ba8>"
      ]
     },
     "execution_count": 28,
     "metadata": {},
     "output_type": "execute_result"
    },
    {
     "data": {
      "image/png": "[encoded data removed]",
      "text/plain": [
       "<Figure size 360x360 with 1 Axes>"
      ]
     },
     "metadata": {
      "needs_background": "light"
     },
     "output_type": "display_data"
    }
   ],
   "source": [
    "#make a scatterplot\n",
    "sns.lmplot(x='Weight', y='Diastolic', data=df)"
   ]
  },
  {
   "cell_type": "code",
   "execution_count": null,
   "metadata": {},
   "outputs": [],
   "source": [
    "#add more details to scatterplot\n",
    "sns.lmplot(x='Weight', y='Diastolic', data=df, \n",
    "           fit_reg=False, #remove regression line\n",
    "           hue='Sex')   #color by evolution stage"
   ]
  },
  {
   "cell_type": "code",
   "execution_count": 19,
   "metadata": {},
   "outputs": [
    {
     "data": {
      "text/plain": [
       "<matplotlib.axes._subplots.AxesSubplot at 0x12dd5126f98>"
      ]
     },
     "execution_count": 19,
     "metadata": {},
     "output_type": "execute_result"
    }
   ],
   "source": [
    "#boxplot showing stats for each characteristic\n",
    "sns.boxplot(data=df)"
   ]
  },
  {
   "cell_type": "code",
   "execution_count": null,
   "metadata": {
    "collapsed": true
   },
   "outputs": [],
   "source": []
  }
 ],
 "metadata": {
  "kernelspec": {
   "display_name": "Python 3",
   "language": "python",
   "name": "python3"
  },
  "language_info": {
   "codemirror_mode": {
    "name": "ipython",
    "version": 3
   },
   "file_extension": ".py",
   "mimetype": "text/x-python",
   "name": "python",
   "nbconvert_exporter": "python",
   "pygments_lexer": "ipython3",
   "version": "3.6.3"
  },
  "toc": {
   "base_numbering": 1,
   "nav_menu": {},
   "number_sections": false,
   "sideBar": false,
   "skip_h1_title": false,
   "title_cell": "Table of Contents",
   "title_sidebar": "Contents",
   "toc_cell": false,
   "toc_position": {},
   "toc_section_display": false,
   "toc_window_display": false
  }
 },
 "nbformat": 4,
 "nbformat_minor": 2
}
